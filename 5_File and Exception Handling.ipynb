{
 "cells": [
  {
   "cell_type": "markdown",
   "id": "e8de96a3-7619-4874-8309-8a6a20e21ce3",
   "metadata": {},
   "source": [
    "# Exercise 1: (score : 1) Write a Python program to read a file and display its contents\n"
   ]
  },
  {
   "cell_type": "code",
   "execution_count": 2,
   "id": "8330ba83-1e5c-44fb-bc6a-35d832d47ad8",
   "metadata": {},
   "outputs": [
    {
     "name": "stdin",
     "output_type": "stream",
     "text": [
      "Enter the filename:  test file.txt\n"
     ]
    },
    {
     "name": "stdout",
     "output_type": "stream",
     "text": [
      "Hello Syam\n"
     ]
    }
   ],
   "source": [
    "filename = input(\"Enter the filename: \")\n",
    "with open(filename, 'r') as file:\n",
    "    print(file.read())"
   ]
  },
  {
   "cell_type": "markdown",
   "id": "1174b21e-fc40-4561-a0db-65e7c46c3cf9",
   "metadata": {},
   "source": [
    "# Exercise 2: (score : 1) Write a Python program to copy the contents of one file to another file\n"
   ]
  },
  {
   "cell_type": "code",
   "execution_count": 3,
   "id": "0abf867a-51fe-4620-a9d2-d56d631a478e",
   "metadata": {},
   "outputs": [
    {
     "name": "stdin",
     "output_type": "stream",
     "text": [
      "Enter the source file name:  test file.txt\n",
      "Enter the destination file name:  mypython.txt\n"
     ]
    },
    {
     "name": "stdout",
     "output_type": "stream",
     "text": [
      "File copied successfully.\n"
     ]
    }
   ],
   "source": [
    "source_file = input(\"Enter the source file name: \")\n",
    "destination_file = input(\"Enter the destination file name: \")\n",
    "with open(source_file, 'r') as src:\n",
    "    with open(destination_file, 'w') as dst:\n",
    "        dst.write(src.read())\n",
    "print(\"File copied successfully.\")"
   ]
  },
  {
   "cell_type": "markdown",
   "id": "6339d7cd-3700-4601-9d57-8361e78bdd20",
   "metadata": {},
   "source": [
    "# Exercise 3: (score : 2) Write a Python program to read the content of a file and count the total number of words in that file."
   ]
  },
  {
   "cell_type": "code",
   "execution_count": 4,
   "id": "bb176a48-7d62-4dee-9a8c-9ae9ec065819",
   "metadata": {},
   "outputs": [
    {
     "name": "stdin",
     "output_type": "stream",
     "text": [
      "Enter the filename:  test file.txt\n"
     ]
    },
    {
     "name": "stdout",
     "output_type": "stream",
     "text": [
      "Total number of words: 2\n"
     ]
    }
   ],
   "source": [
    "filename = input(\"Enter the filename: \")\n",
    "with open(filename, 'r') as file:\n",
    "    words = file.read().split()\n",
    "    print(\"Total number of words:\", len(words))"
   ]
  },
  {
   "cell_type": "markdown",
   "id": "1ba47b9d-6414-44d8-a483-7e995c8874f0",
   "metadata": {},
   "source": [
    "# Exercise 4: (score : 1) Write a Python program that prompts the user to input a string and converts it to an integer. Use try-except blocks to handle any exceptions that might occur. "
   ]
  },
  {
   "cell_type": "code",
   "execution_count": 6,
   "id": "86f27cf9-9dc6-43fb-a14e-5b239588b4d0",
   "metadata": {},
   "outputs": [
    {
     "name": "stdin",
     "output_type": "stream",
     "text": [
      "Enter a number:  1w2\n"
     ]
    },
    {
     "name": "stdout",
     "output_type": "stream",
     "text": [
      "Invalid input! Please enter a valid integer.\n"
     ]
    }
   ],
   "source": [
    "user_input = input(\"Enter a number: \")\n",
    "try:\n",
    "    number = int(user_input)\n",
    "    print(\"The number is:\", number)\n",
    "except ValueError:\n",
    "    print(\"Invalid input! Please enter a valid integer.\")"
   ]
  },
  {
   "cell_type": "markdown",
   "id": "bb4557f9-1551-4a94-90ac-e3bbe26318c2",
   "metadata": {},
   "source": [
    "# Exercise 5: (score : 1) Write a Python program that prompts the user to input a list of integers and raises an exception if any of the integers in the list are negative."
   ]
  },
  {
   "cell_type": "code",
   "execution_count": 8,
   "id": "19a81e1a-7ff4-4efe-958a-aa8d135b4da2",
   "metadata": {},
   "outputs": [
    {
     "name": "stdin",
     "output_type": "stream",
     "text": [
      "Enter a list of integers:  12 10 -6\n"
     ]
    },
    {
     "name": "stdout",
     "output_type": "stream",
     "text": [
      "Error: Negative numbers are not allowed.\n"
     ]
    }
   ],
   "source": [
    "try:\n",
    "    numbers = list(map(int, input(\"Enter a list of integers: \").split()))\n",
    "    for num in numbers:\n",
    "        if num < 0:\n",
    "            raise ValueError(\"Negative numbers are not allowed.\")\n",
    "    print(\"The list of integers is:\", numbers)\n",
    "except ValueError as e:\n",
    "    print(\"Error:\", e)"
   ]
  },
  {
   "cell_type": "markdown",
   "id": "8066aafd-1c4d-406a-99d1-1c5865e57a15",
   "metadata": {},
   "source": [
    "# Exercise 6: (score : 2) Write a Python program that prompts the user to input a list of integers and computes the average of those integers. Use try-except blocks to handle any exceptions that might occur.use the finally clause to print a message indicating that the program has finished running.\n"
   ]
  },
  {
   "cell_type": "code",
   "execution_count": 10,
   "id": "355facaf-5814-44aa-815a-62616b729b85",
   "metadata": {},
   "outputs": [
    {
     "name": "stdin",
     "output_type": "stream",
     "text": [
      "Enter a list of integers:  19 18 17 16\n"
     ]
    },
    {
     "name": "stdout",
     "output_type": "stream",
     "text": [
      "The average is: 17.5\n",
      "Program has finished running.\n"
     ]
    }
   ],
   "source": [
    "try:\n",
    "    numbers = list(map(int, input(\"Enter a list of integers: \").split()))\n",
    "    average = sum(numbers) / len(numbers)\n",
    "    print(\"The average is:\", average)\n",
    "except ValueError:\n",
    "    print(\"Error: Please enter valid integers.\")\n",
    "finally:\n",
    "    print(\"Program has finished running.\")"
   ]
  },
  {
   "cell_type": "markdown",
   "id": "4c5a7c94-302e-4a83-961c-a78fc07f8b3e",
   "metadata": {},
   "source": [
    "# Exercise 7 : (score : 2) Write a Python program that prompts the user to input a filename and writes a string to that file. Use try-except blocks to handle any exceptions that might occur and print a welcome message if there is no exception occurred."
   ]
  },
  {
   "cell_type": "code",
   "execution_count": 11,
   "id": "b329f11e-5722-4bd7-815d-820544a353d2",
   "metadata": {},
   "outputs": [
    {
     "name": "stdin",
     "output_type": "stream",
     "text": [
      "Enter the filename:  python.txt\n",
      "Enter the text to write to the file:  hello python\n"
     ]
    },
    {
     "name": "stdout",
     "output_type": "stream",
     "text": [
      "Welcome! The string has been successfully written.\n"
     ]
    }
   ],
   "source": [
    "try:\n",
    "    filename = input(\"Enter the filename: \")\n",
    "    string = input(\"Enter the text to write to the file: \")\n",
    "    with open(filename, 'w') as file:\n",
    "        file.write(string)\n",
    "    print(\"Welcome! The string has been successfully written.\")\n",
    "except Exception:\n",
    "    print(\"Error: Could not write to the file.\")"
   ]
  },
  {
   "cell_type": "code",
   "execution_count": null,
   "id": "8757a974-62d7-4c9f-a75c-3eee2442ca34",
   "metadata": {},
   "outputs": [],
   "source": []
  }
 ],
 "metadata": {
  "kernelspec": {
   "display_name": "Python 3 (ipykernel)",
   "language": "python",
   "name": "python3"
  },
  "language_info": {
   "codemirror_mode": {
    "name": "ipython",
    "version": 3
   },
   "file_extension": ".py",
   "mimetype": "text/x-python",
   "name": "python",
   "nbconvert_exporter": "python",
   "pygments_lexer": "ipython3",
   "version": "3.12.7"
  }
 },
 "nbformat": 4,
 "nbformat_minor": 5
}
